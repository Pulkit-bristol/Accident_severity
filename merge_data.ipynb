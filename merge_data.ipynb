{
 "cells": [
  {
   "cell_type": "markdown",
   "metadata": {},
   "source": [
    "# I want to check how all the data is related to each other"
   ]
  },
  {
   "cell_type": "code",
   "execution_count": 1,
   "metadata": {},
   "outputs": [],
   "source": [
    "import pandas as pd"
   ]
  },
  {
   "cell_type": "markdown",
   "metadata": {},
   "source": [
    "# read the dataframes \n"
   ]
  },
  {
   "cell_type": "code",
   "execution_count": 25,
   "metadata": {},
   "outputs": [
    {
     "name": "stdout",
     "output_type": "stream",
     "text": [
      "(44740, 38)\n",
      "(80224, 46)\n",
      "(114486, 22)\n"
     ]
    }
   ],
   "source": [
    "accident = pd.read_csv(\"cleaned_data/accident.csv\")\n",
    "person = pd.read_csv(\"cleaned_data/person.csv\")\n",
    "vehicle = pd.read_csv(\"cleaned_data/vehicle.csv\")\n",
    "\n",
    "print(accident.shape)\n",
    "print(vehicle.shape)\n",
    "print(person.shape)"
   ]
  },
  {
   "cell_type": "code",
   "execution_count": 3,
   "metadata": {},
   "outputs": [
    {
     "name": "stdout",
     "output_type": "stream",
     "text": [
      "Accident details\n",
      "     CASENUM  HOUR_I  MINUTE_I  RELJCT_I  ALIGN_I  PROFIL_I  SURCON_I  \\\n",
      "0  110215644      22        23         0        1         2         1   \n",
      "\n",
      "   TRFCON_I  LGTCON_I  WEATHR_I  ...  NON_INVL  NUM_INJ  PED_ACC  PJ  PSU  \\\n",
      "0         0         2         1  ...         0        0        0   2    2   \n",
      "\n",
      "   SPD_LIM  VEH_INVL  YEAR  NO_INJ_I  ALCHL_I  \n",
      "0       99         1  2001         0        2  \n",
      "\n",
      "[1 rows x 38 columns]\n"
     ]
    }
   ],
   "source": [
    "# let's pick one case number\n",
    "\n",
    "# lets pick a particular case number 110215644\n",
    "print(\"Accident details\")\n",
    "print(accident[(accident.CASENUM == 110215644)])\n"
   ]
  },
  {
   "cell_type": "code",
   "execution_count": 4,
   "metadata": {},
   "outputs": [
    {
     "name": "stdout",
     "output_type": "stream",
     "text": [
      "____________________\n",
      "Person Details for this case number\n",
      "     CASENUM  PERNO  VEHNO  AGE_H  SEX_H  INJSEV_H  PERALC_H  WEIGHT  \\\n",
      "0  110215644      1      1     46      2         0         1  271.46   \n",
      "1  110215644      2      1     70      2         0         0  271.46   \n",
      "\n",
      "   PER_TYPE  SEAT_POS  ...  HOSPITAL  PER_ALCH  LOCATN  REST_SYS  IMPAIRMT  \\\n",
      "0         1        11  ...         0         1       0         1         0   \n",
      "1         2        13  ...         0         0       0         1         0   \n",
      "\n",
      "   ACTION  SAF_EQMT  AIRBAG  REGION  PJ  \n",
      "0       0         0       9       1   2  \n",
      "1       0         0       9       1   2  \n",
      "\n",
      "[2 rows x 22 columns]\n"
     ]
    }
   ],
   "source": [
    "print(\"____________________\")\n",
    "print(\"Person Details for this case number\")\n",
    "print(person[(person.CASENUM == 110215644)])\n"
   ]
  },
  {
   "cell_type": "code",
   "execution_count": 5,
   "metadata": {},
   "outputs": [
    {
     "name": "stdout",
     "output_type": "stream",
     "text": [
      "____________________\n",
      "Vehicle Details for this case number\n",
      "     CASENUM  WEIGHT  HAZM_NO  MODEL_YR  DAM_AREA  DR_ZIP_C  C_ID_NO  REGION  \\\n",
      "0  110215644  271.46        0      2000     13000     12456        0       1   \n",
      "\n",
      "   HIT_RUN  MAKE  ...  OCC_INVL  PJ  PSU  P_CRASH2  SPEED  VEHNO  IMPACT_H  \\\n",
      "0        0    49  ...         2   2    2        87    999      1         1   \n",
      "\n",
      "   MDLYR_I  MXVSEV_I  V_ALCH_I  \n",
      "0     2000         0         2  \n",
      "\n",
      "[1 rows x 46 columns]\n"
     ]
    }
   ],
   "source": [
    "print(\"____________________\")\n",
    "print(\"Vehicle Details for this case number\")\n",
    "print(vehicle[(vehicle.CASENUM == 110215644)])"
   ]
  },
  {
   "cell_type": "markdown",
   "metadata": {},
   "source": [
    "For this case case number = 110215644, there was only a single vehicle involved 2 individuals "
   ]
  },
  {
   "cell_type": "markdown",
   "metadata": {},
   "source": [
    "# Let's try to analyze for this case number 160325515"
   ]
  },
  {
   "cell_type": "code",
   "execution_count": 6,
   "metadata": {},
   "outputs": [
    {
     "name": "stdout",
     "output_type": "stream",
     "text": [
      "Accident details\n",
      "         CASENUM  HOUR_I  MINUTE_I  RELJCT_I  ALIGN_I  PROFIL_I  SURCON_I  \\\n",
      "34941  160325515      16        50         0        1         2         3   \n",
      "\n",
      "       TRFCON_I  LGTCON_I  WEATHR_I  ...  NON_INVL  NUM_INJ  PED_ACC  PJ  PSU  \\\n",
      "34941         0         1         4  ...         0        8        0   1   11   \n",
      "\n",
      "       SPD_LIM  VEH_INVL  YEAR  NO_INJ_I  ALCHL_I  \n",
      "34941       70        23  2001         8        2  \n",
      "\n",
      "[1 rows x 38 columns]\n"
     ]
    }
   ],
   "source": [
    "# let's pick one case number\n",
    "\n",
    "# accident will have a single row for sure\n",
    "# lets pick a particular case number 160325515\n",
    "print(\"Accident details\")\n",
    "print(accident[(accident.CASENUM == 160325515)])\n"
   ]
  },
  {
   "cell_type": "code",
   "execution_count": 7,
   "metadata": {},
   "outputs": [
    {
     "name": "stdout",
     "output_type": "stream",
     "text": [
      "____________________\n",
      "Person Details for this case number\n",
      "         CASENUM  PERNO  VEHNO  AGE_H  SEX_H  INJSEV_H  PERALC_H  WEIGHT  \\\n",
      "89982  160325515      1      1     58      1         0         1  19.051   \n",
      "89983  160325515      1      2     49      1         0         1  19.051   \n",
      "89984  160325515      1      3     23      2         0         1  19.051   \n",
      "89985  160325515      1      4     38      1         0         1  19.051   \n",
      "89986  160325515      1      5     23      2         0         1  19.051   \n",
      "89987  160325515      1      6     46      1         0         1  19.051   \n",
      "89988  160325515      1      7     22      2         2         1  19.051   \n",
      "89989  160325515      1      8     48      2         1         1  19.051   \n",
      "89990  160325515      1      9     35      1         0         1  19.051   \n",
      "89991  160325515      1     10     55      1         0         1  19.051   \n",
      "89992  160325515      1     11     57      1         0         1  19.051   \n",
      "89993  160325515      1     12     57      1         0         1  19.051   \n",
      "89994  160325515      1     13     62      1         1         1  19.051   \n",
      "89995  160325515      1     14     27      2         1         1  19.051   \n",
      "89996  160325515      1     15     57      1         1         1  19.051   \n",
      "89997  160325515      1     16     44      2         1         1  19.051   \n",
      "89998  160325515      1     17     71      1         0         1  19.051   \n",
      "89999  160325515      1     18     61      2         1         1  19.051   \n",
      "90000  160325515      1     19     52      2         1         1  19.051   \n",
      "90001  160325515      1     20     63      2         0         1  19.051   \n",
      "90002  160325515      1     21     25      2         0         1  19.051   \n",
      "90003  160325515      1     22     48      2         0         1  19.051   \n",
      "90004  160325515      1     23     47      1         0         1  19.051   \n",
      "\n",
      "       PER_TYPE  SEAT_POS  ...  HOSPITAL  PER_ALCH  LOCATN  REST_SYS  \\\n",
      "89982         1        11  ...         0         1       0         1   \n",
      "89983         1        11  ...         0         1       0         1   \n",
      "89984         1        11  ...         0         1       0         1   \n",
      "89985         1        11  ...         0         1       0         1   \n",
      "89986         1        11  ...         0         1       0         1   \n",
      "89987         1        11  ...         0         1       0         1   \n",
      "89988         1        11  ...         1         1       0         1   \n",
      "89989         1        11  ...         1         1       0         1   \n",
      "89990         1        11  ...         0         1       0         1   \n",
      "89991         1        11  ...         0         1       0         1   \n",
      "89992         1        11  ...         0         1       0         1   \n",
      "89993         1        11  ...         9         8       0         9   \n",
      "89994         1        11  ...         0         1       0         2   \n",
      "89995         1        11  ...         0         1       0         2   \n",
      "89996         1        11  ...         1         1       0         9   \n",
      "89997         1        11  ...         0         1       0         1   \n",
      "89998         1        11  ...         0         1       0         1   \n",
      "89999         1        11  ...         0         1       0         1   \n",
      "90000         1        11  ...         0         1       0         1   \n",
      "90001         1        11  ...         0         1       0         1   \n",
      "90002         1        11  ...         0         1       0         1   \n",
      "90003         1        11  ...         0         1       0         1   \n",
      "90004         1        11  ...         0         1       0         1   \n",
      "\n",
      "       IMPAIRMT  ACTION  SAF_EQMT  AIRBAG  REGION  PJ  \n",
      "89982         0       0         0       2       2   1  \n",
      "89983         0       0         0       2       2   1  \n",
      "89984         0       0         0       0       2   1  \n",
      "89985         0       0         0       0       2   1  \n",
      "89986         0       0         0       1       2   1  \n",
      "89987         0       0         0       0       2   1  \n",
      "89988         0       0         0       1       2   1  \n",
      "89989         0       0         0       1       2   1  \n",
      "89990         0       0         0       0       2   1  \n",
      "89991         0       0         0       0       2   1  \n",
      "89992         0       0         0       2       2   1  \n",
      "89993        99       0         0       9       2   1  \n",
      "89994         0       0         0       0       2   1  \n",
      "89995         0       0         0       2       2   1  \n",
      "89996         0       0         0       2       2   1  \n",
      "89997         0       0         0       2       2   1  \n",
      "89998         0       0         0       0       2   1  \n",
      "89999         0       0         0       2       2   1  \n",
      "90000         0       0         0       2       2   1  \n",
      "90001         0       0         0       2       2   1  \n",
      "90002         0       0         0       1       2   1  \n",
      "90003         0       0         0       2       2   1  \n",
      "90004         0       0         0       0       2   1  \n",
      "\n",
      "[23 rows x 22 columns]\n",
      "(23, 22)\n"
     ]
    }
   ],
   "source": [
    "print(\"____________________\")\n",
    "print(\"Person Details for this case number\")\n",
    "print(person[(person.CASENUM == 160325515)])\n",
    "print(person[(person.CASENUM == 160325515)].shape)"
   ]
  },
  {
   "cell_type": "code",
   "execution_count": 8,
   "metadata": {},
   "outputs": [
    {
     "name": "stdout",
     "output_type": "stream",
     "text": [
      "____________________\n",
      "Vehicle Details for this case number\n",
      "         CASENUM  WEIGHT  HAZM_NO  MODEL_YR  DAM_AREA  DR_ZIP_C  C_ID_NO  \\\n",
      "62598  160325515  19.051        0      1997     10000     49234        0   \n",
      "62599  160325515  19.051        0      1994     10000     53209        0   \n",
      "62600  160325515  19.051        0      1991     10000     49002        0   \n",
      "62601  160325515  19.051        0      2001     40000     78840   658570   \n",
      "62602  160325515  19.051        0      2000     40000     49201        0   \n",
      "62603  160325515  19.051        0      1999     40000     60433   146880   \n",
      "62604  160325515  19.051        0      1999     10000     48170        0   \n",
      "62605  160325515  19.051        0      1997     10000     49001        0   \n",
      "62606  160325515  19.051        0      1992     20000     48504        0   \n",
      "62607  160325515  19.051        0      1995     10000     63351   438719   \n",
      "62608  160325515  19.051        0      1997     34000     49201        0   \n",
      "62609  160325515  19.051     9999      9999     99999     99999   999999   \n",
      "62610  160325515  19.051        0      1982     20000     49202        0   \n",
      "62611  160325515  19.051        0      1995     24000     49202        0   \n",
      "62612  160325515  19.051        0      2000     40000     35565        0   \n",
      "62613  160325515  19.051        0      1995     40000     49240        0   \n",
      "62614  160325515  19.051        0      1997     34000     67864   139495   \n",
      "62615  160325515  19.051        0      1999     40000     49259        0   \n",
      "62616  160325515  19.051        0      2000     40000     49203        0   \n",
      "62617  160325515  19.051        0      1996     30000     49201        0   \n",
      "62618  160325515  19.051        0      1991     10000     49085        0   \n",
      "62619  160325515  19.051        0      1993     40000     49240        0   \n",
      "62620  160325515  19.051        0      1986     40000     60045        0   \n",
      "\n",
      "       REGION  HIT_RUN  MAKE  ...  OCC_INVL  PJ  PSU  P_CRASH2  SPEED  VEHNO  \\\n",
      "62598       2        0    18  ...         1   1   11        99    999      1   \n",
      "62599       2        0     6  ...         1   1   11        99    999      2   \n",
      "62600       2        0    12  ...         1   1   11        99    999      3   \n",
      "62601       2        0    82  ...         1   1   11        99    999      4   \n",
      "62602       2        0     7  ...         1   1   11        99    999      5   \n",
      "62603       2        0    86  ...         1   1   11        99    999      6   \n",
      "62604       2        0    23  ...         1   1   11        99    999      7   \n",
      "62605       2        0    37  ...         1   1   11        99    999      8   \n",
      "62606       2        0     9  ...         1   1   11        99    999      9   \n",
      "62607       2        0    23  ...         1   1   11        99    999     10   \n",
      "62608       2        0    20  ...         1   1   11        99    999     11   \n",
      "62609       2        0    99  ...         1   1   11        99    999     12   \n",
      "62610       2        0    21  ...         1   1   11        99    999     13   \n",
      "62611       2        0    20  ...         1   1   11        99    999     14   \n",
      "62612       2        0    12  ...         1   1   11        99    999     15   \n",
      "62613       2        0     9  ...         1   1   11        99    999     16   \n",
      "62614       2        0    85  ...         1   1   11        99    999     17   \n",
      "62615       2        0     7  ...         1   1   11        99    999     18   \n",
      "62616       2        0    20  ...         1   1   11        99    999     19   \n",
      "62617       2        0    24  ...         1   1   11        99    999     20   \n",
      "62618       2        0     7  ...         1   1   11        99    999     21   \n",
      "62619       2        0    12  ...         1   1   11        99    999     22   \n",
      "62620       2        0    12  ...         1   1   11        99    999     23   \n",
      "\n",
      "       IMPACT_H  MDLYR_I  MXVSEV_I  V_ALCH_I  \n",
      "62598         1     1997         0         2  \n",
      "62599         4     1994         0         2  \n",
      "62600         4     1991         0         2  \n",
      "62601         4     2001         0         2  \n",
      "62602         4     2000         0         2  \n",
      "62603         4     1999         0         2  \n",
      "62604         4     1999         2         2  \n",
      "62605         4     1997         1         2  \n",
      "62606         2     1992         0         2  \n",
      "62607         4     1995         0         2  \n",
      "62608         4     1997         0         2  \n",
      "62609         2     1982         0         2  \n",
      "62610         2     1982         1         2  \n",
      "62611         4     1995         1         2  \n",
      "62612         4     2000         1         2  \n",
      "62613         4     1995         1         2  \n",
      "62614         4     1997         0         2  \n",
      "62615         4     1999         1         2  \n",
      "62616         4     2000         1         2  \n",
      "62617         3     1996         0         2  \n",
      "62618         4     1991         0         2  \n",
      "62619         4     1993         0         2  \n",
      "62620         4     1986         0         2  \n",
      "\n",
      "[23 rows x 46 columns]\n"
     ]
    }
   ],
   "source": [
    "print(\"____________________\")\n",
    "print(\"Vehicle Details for this case number\")\n",
    "print(vehicle[(vehicle.CASENUM == 160325515)])"
   ]
  },
  {
   "cell_type": "markdown",
   "metadata": {},
   "source": [
    "## Question:- Can there be multiple case number in accident data?"
   ]
  },
  {
   "cell_type": "code",
   "execution_count": 9,
   "metadata": {},
   "outputs": [
    {
     "data": {
      "text/plain": [
       "False"
      ]
     },
     "execution_count": 9,
     "metadata": {},
     "output_type": "execute_result"
    }
   ],
   "source": [
    "# for accident we have a single CASENUMBER for particlar \n",
    "(accident.CASENUM.value_counts() > 1).any()\n"
   ]
  },
  {
   "cell_type": "markdown",
   "metadata": {},
   "source": [
    "# Answer - No"
   ]
  },
  {
   "cell_type": "code",
   "execution_count": 10,
   "metadata": {},
   "outputs": [
    {
     "data": {
      "text/plain": [
       "True"
      ]
     },
     "execution_count": 10,
     "metadata": {},
     "output_type": "execute_result"
    }
   ],
   "source": [
    "# Let's check the same for vehicle \n",
    "# I am assuming that for a case number there can be multiple vehicle involved\n",
    "\n",
    "(vehicle.CASENUM.value_counts() > 1).any()"
   ]
  },
  {
   "cell_type": "code",
   "execution_count": 11,
   "metadata": {},
   "outputs": [],
   "source": [
    "duplicate_cases = vehicle.CASENUM.value_counts()\n",
    "duplicate_cases = duplicate_cases[duplicate_cases > 1]  # Filter cases with count > 1\n"
   ]
  },
  {
   "cell_type": "code",
   "execution_count": 12,
   "metadata": {},
   "outputs": [
    {
     "data": {
      "text/plain": [
       "CASENUM\n",
       "160325515    23\n",
       "130236944    10\n",
       "180809192     9\n",
       "162917987     9\n",
       "132460321     8\n",
       "             ..\n",
       "122275543     2\n",
       "130245938     2\n",
       "122275465     2\n",
       "130235824     2\n",
       "130235513     2\n",
       "Name: count, Length: 30568, dtype: int64"
      ]
     },
     "execution_count": 12,
     "metadata": {},
     "output_type": "execute_result"
    }
   ],
   "source": [
    "duplicate_cases"
   ]
  },
  {
   "cell_type": "code",
   "execution_count": 13,
   "metadata": {},
   "outputs": [
    {
     "name": "stdout",
     "output_type": "stream",
     "text": [
      "____________________\n",
      "Person Details for this case number\n",
      "         CASENUM  PERNO  VEHNO  AGE_H  SEX_H  INJSEV_H  PERALC_H  WEIGHT  \\\n",
      "30808  130236944      1      1     42      1         0         1   2.701   \n",
      "30809  130236944      1      2     23      1         4         1   2.701   \n",
      "30810  130236944      1      3     19      2         1         1   2.701   \n",
      "30811  130236944      2      3     17      2         1         0   2.701   \n",
      "30812  130236944      1      4     48      1         2         1   2.701   \n",
      "30813  130236944      1      5     20      2         1         1   2.701   \n",
      "30814  130236944      1      6     50      1         0         1   2.701   \n",
      "30815  130236944      1      7     20      1         1         1   2.701   \n",
      "30816  130236944      2      7     41      1         1         0   2.701   \n",
      "30817  130236944      1      8     52      2         2         1   2.701   \n",
      "30818  130236944      1      9     52      2         2         1   2.701   \n",
      "30819  130236944      2      9     18      2         2         0   2.701   \n",
      "30820  130236944      3      9     15      2         2         0   2.701   \n",
      "30821  130236944      1     10     31      2         1         1   2.701   \n",
      "30822  130236944      2     10      9      2         1         0   2.701   \n",
      "30823  130236944      3     10      1      2         1         0   2.701   \n",
      "\n",
      "       PER_TYPE  SEAT_POS  ...  HOSPITAL  PER_ALCH  LOCATN  REST_SYS  \\\n",
      "30808         1        11  ...         0         8       0         9   \n",
      "30809         1        11  ...         0         1       0         1   \n",
      "30810         1        11  ...         1         1       0         1   \n",
      "30811         2        13  ...         1         0       0         1   \n",
      "30812         1        11  ...         1         1       0         5   \n",
      "30813         1        11  ...         1         1       0         1   \n",
      "30814         1        11  ...         0         1       0         1   \n",
      "30815         1        11  ...         0         1       0         2   \n",
      "30816         2        13  ...         0         0       0         1   \n",
      "30817         1        11  ...         1         1       0         0   \n",
      "30818         1        11  ...         1         1       0         1   \n",
      "30819         2        13  ...         1         0       0         1   \n",
      "30820         2        23  ...         1         0       0         1   \n",
      "30821         1        11  ...         1         1       0         1   \n",
      "30822         2        13  ...         0         0       0         1   \n",
      "30823         2        23  ...         1         0       0         6   \n",
      "\n",
      "       IMPAIRMT  ACTION  SAF_EQMT  AIRBAG  REGION  PJ  \n",
      "30808         0       0         0       0       2   4  \n",
      "30809         0       0         0       1       2   4  \n",
      "30810         0       0         0       2       2   4  \n",
      "30811         0       0         0       2       2   4  \n",
      "30812         0       0         0       0       2   4  \n",
      "30813         0       0         0       0       2   4  \n",
      "30814         0       0         0       0       2   4  \n",
      "30815         0       0         0       0       2   4  \n",
      "30816         0       0         0       0       2   4  \n",
      "30817         0       0         0       1       2   4  \n",
      "30818         0       0         0       1       2   4  \n",
      "30819         0       0         0       1       2   4  \n",
      "30820         0       0         0       0       2   4  \n",
      "30821         0       0         0       1       2   4  \n",
      "30822         0       0         0       2       2   4  \n",
      "30823         0       0         0       0       2   4  \n",
      "\n",
      "[16 rows x 22 columns]\n",
      "(16, 22)\n"
     ]
    }
   ],
   "source": [
    "\n",
    "print(\"____________________\")\n",
    "print(\"Person Details for this case number\")\n",
    "print(person[(person.CASENUM == 130236944)])\n",
    "print(person[(person.CASENUM == 130236944)].shape)"
   ]
  },
  {
   "cell_type": "code",
   "execution_count": 14,
   "metadata": {},
   "outputs": [
    {
     "name": "stdout",
     "output_type": "stream",
     "text": [
      "____________________\n",
      "Vehicle Details for this case number\n",
      "         CASENUM  WEIGHT  HAZM_NO  MODEL_YR  DAM_AREA  DR_ZIP_C  C_ID_NO  \\\n",
      "21367  130236944   2.701        0      1988     19999     48186   994131   \n",
      "21368  130236944   2.701        0      1993     39999     48125        0   \n",
      "21369  130236944   2.701        0      1983     19999     48180        0   \n",
      "21370  130236944   2.701        0      2001     39999     48146        0   \n",
      "21371  130236944   2.701        0      1990     12999     48125        0   \n",
      "21372  130236944   2.701        0      1989     19999     48180        0   \n",
      "21373  130236944   2.701        0      1990     13999     48179        0   \n",
      "21374  130236944   2.701        0      1994     19999     48188        0   \n",
      "21375  130236944   2.701        0      2000     13999     48126        0   \n",
      "21376  130236944   2.701        0      1991     10000     48101        0   \n",
      "\n",
      "       REGION  HIT_RUN  MAKE  ...  OCC_INVL  PJ  PSU  P_CRASH2  SPEED  VEHNO  \\\n",
      "21367       2        0    85  ...         1   4   10        17    999      1   \n",
      "21368       2        0    12  ...         1   4   10        66    999      2   \n",
      "21369       2        0    20  ...         2   4   10        78      0      3   \n",
      "21370       2        0    37  ...         1   4   10        78      0      4   \n",
      "21371       2        0    12  ...         1   4   10        78      0      5   \n",
      "21372       2        0    20  ...         1   4   10        78      0      6   \n",
      "21373       2        0     7  ...         2   4   10        78      0      7   \n",
      "21374       2        0    58  ...         1   4   10        78      0      8   \n",
      "21375       2        0    20  ...         3   4   10        78      0      9   \n",
      "21376       2        0    12  ...         3   4   10        78      0     10   \n",
      "\n",
      "       IMPACT_H  MDLYR_I  MXVSEV_I  V_ALCH_I  \n",
      "21367         1     1988         0         2  \n",
      "21368         3     1993         4         2  \n",
      "21369         1     1983         1         2  \n",
      "21370         3     2001         2         2  \n",
      "21371         1     1990         1         2  \n",
      "21372         1     1989         0         2  \n",
      "21373         1     1990         1         2  \n",
      "21374         1     1994         2         2  \n",
      "21375         1     2000         2         2  \n",
      "21376         1     1991         1         2  \n",
      "\n",
      "[10 rows x 46 columns]\n"
     ]
    }
   ],
   "source": [
    "print(\"____________________\")\n",
    "print(\"Vehicle Details for this case number\")\n",
    "print(vehicle[(vehicle.CASENUM == 130236944)])"
   ]
  },
  {
   "cell_type": "markdown",
   "metadata": {},
   "source": [
    " # Ok let's try to merge the data now"
   ]
  },
  {
   "cell_type": "code",
   "execution_count": 15,
   "metadata": {},
   "outputs": [
    {
     "name": "stdout",
     "output_type": "stream",
     "text": [
      "Common columns: ['WEIGHT', 'PJ', 'CASENUM', 'PSU', 'REGION']\n"
     ]
    }
   ],
   "source": [
    "# we'll merge accident and vehicle data\n",
    "\n",
    "common_columns = list(set(accident.columns) & set(vehicle.columns))\n",
    "\n",
    "# Print the common columns\n",
    "print(\"Common columns:\", common_columns)\n"
   ]
  },
  {
   "cell_type": "code",
   "execution_count": 63,
   "metadata": {},
   "outputs": [
    {
     "name": "stdout",
     "output_type": "stream",
     "text": [
      "Common columns: ['CASENUM', 'WEIGHT', 'PJ', 'REGION']\n"
     ]
    }
   ],
   "source": [
    "# we'll merge accident and vehicle data\n",
    "\n",
    "common_columns = list(set(accident.columns) & set(person.columns))\n",
    "\n",
    "# Print the common columns\n",
    "print(\"Common columns:\", common_columns)\n"
   ]
  },
  {
   "cell_type": "code",
   "execution_count": 64,
   "metadata": {},
   "outputs": [
    {
     "name": "stdout",
     "output_type": "stream",
     "text": [
      "Common columns: ['WEIGHT', 'PJ', 'CASENUM', 'VEHNO', 'REGION']\n"
     ]
    }
   ],
   "source": [
    "# we'll merge accident and vehicle data\n",
    "\n",
    "common_columns = list(set(vehicle.columns) & set(person.columns))\n",
    "\n",
    "# Print the common columns\n",
    "print(\"Common columns:\", common_columns)\n"
   ]
  },
  {
   "cell_type": "markdown",
   "metadata": {},
   "source": [
    "Region column analysis"
   ]
  },
  {
   "cell_type": "code",
   "execution_count": 16,
   "metadata": {},
   "outputs": [
    {
     "name": "stdout",
     "output_type": "stream",
     "text": [
      "Empty DataFrame\n",
      "Columns: [CASENUM, REGION]\n",
      "Index: []\n"
     ]
    }
   ],
   "source": [
    "\"\"\"print(vehicle[(vehicle.CASENUM == 160325515)]['PSU'].unique())\n",
    "print(accident[(accident.CASENUM == 160325515)]['PSU'].unique())\n",
    "\n",
    "\n",
    "print(vehicle[(vehicle.CASENUM == 160325515)]['PJ'].unique())\n",
    "print(accident[(accident.CASENUM == 160325515)]['PJ'].unique())\n",
    "\n",
    "print(vehicle[(vehicle.CASENUM == 160325515)]['REGION'].unique())\n",
    "print(accident[(accident.CASENUM == 160325515)]['REGION'].unique())\n",
    "\"\"\"\n",
    "accident_sample = accident[[\"CASENUM\",\"REGION\"]]\n",
    "vehicle_sample = vehicle[[\"CASENUM\",\"REGION\"]]\n",
    "\n",
    "# Group vehicle_sample by 'CASENUM' and stack the 'REGION' values into a list\n",
    "grouped_vehicle_sample = vehicle_sample.groupby('CASENUM')['REGION'].agg(lambda x: set(x)).reset_index()\n",
    "\n",
    "# Display the result\n",
    "#print(grouped_vehicle_sample)\n",
    "\n",
    "# Filter rows where the length of the 'REGION' set is greater than 1\n",
    "multiple_regions = grouped_vehicle_sample[grouped_vehicle_sample['REGION'].apply(len) > 1]\n",
    "\n",
    "# Display the result\n",
    "print(multiple_regions)\n",
    "\n"
   ]
  },
  {
   "cell_type": "markdown",
   "metadata": {},
   "source": [
    "PJ column analysis"
   ]
  },
  {
   "cell_type": "code",
   "execution_count": 17,
   "metadata": {},
   "outputs": [
    {
     "name": "stdout",
     "output_type": "stream",
     "text": [
      "Empty DataFrame\n",
      "Columns: [CASENUM, PJ]\n",
      "Index: []\n"
     ]
    }
   ],
   "source": [
    "\n",
    "accident_sample = accident[[\"CASENUM\",\"PJ\"]]\n",
    "vehicle_sample = vehicle[[\"CASENUM\",\"PJ\"]]\n",
    "\n",
    "# Group vehicle_sample by 'CASENUM' and stack the 'REGION' values into a list\n",
    "grouped_vehicle_sample = vehicle_sample.groupby('CASENUM')['PJ'].agg(lambda x: set(x)).reset_index()\n",
    "\n",
    "# Display the result\n",
    "#print(grouped_vehicle_sample)\n",
    "\n",
    "# Filter rows where the length of the 'REGION' set is greater than 1\n",
    "multiple_regions = grouped_vehicle_sample[grouped_vehicle_sample['PJ'].apply(len) > 1]\n",
    "\n",
    "# Display the result\n",
    "print(multiple_regions)\n",
    "\n"
   ]
  },
  {
   "cell_type": "markdown",
   "metadata": {},
   "source": [
    "PSU column analysis"
   ]
  },
  {
   "cell_type": "code",
   "execution_count": 18,
   "metadata": {},
   "outputs": [
    {
     "name": "stdout",
     "output_type": "stream",
     "text": [
      "Empty DataFrame\n",
      "Columns: [CASENUM, PSU]\n",
      "Index: []\n"
     ]
    }
   ],
   "source": [
    "\n",
    "accident_sample = accident[[\"CASENUM\",\"PSU\"]]\n",
    "vehicle_sample = vehicle[[\"CASENUM\",\"PSU\"]]\n",
    "\n",
    "# Group vehicle_sample by 'CASENUM' and stack the 'REGION' values into a list\n",
    "grouped_vehicle_sample = vehicle_sample.groupby('CASENUM')['PSU'].agg(lambda x: set(x)).reset_index()\n",
    "\n",
    "# Display the result\n",
    "#print(grouped_vehicle_sample)\n",
    "\n",
    "# Filter rows where the length of the 'REGION' set is greater than 1\n",
    "multiple_regions = grouped_vehicle_sample[grouped_vehicle_sample['PSU'].apply(len) > 1]\n",
    "\n",
    "# Display the result\n",
    "print(multiple_regions)\n",
    "\n"
   ]
  },
  {
   "cell_type": "markdown",
   "metadata": {},
   "source": [
    "so in vehicle and accident data ['PSU', 'REGION', 'PJ', 'WEIGHT', 'CASENUM'] columns resembles the same values"
   ]
  },
  {
   "cell_type": "code",
   "execution_count": 19,
   "metadata": {},
   "outputs": [
    {
     "name": "stdout",
     "output_type": "stream",
     "text": [
      "(80224, 79)\n"
     ]
    }
   ],
   "source": [
    "# taking accident on left and vehicle on right we can do a left join on ['PSU', 'REGION', 'PJ', 'WEIGHT', 'CASENUM'] these columns \n",
    "\n",
    "# Perform a left join on the specified columns\n",
    "merged_data_accident_vehicle = pd.merge(accident, vehicle, on=['PSU', 'REGION', 'PJ', 'WEIGHT', 'CASENUM'], how='left')\n",
    "\n",
    "print(merged_data_accident_vehicle.shape)\n",
    "# Display the result\n"
   ]
  },
  {
   "cell_type": "code",
   "execution_count": 20,
   "metadata": {},
   "outputs": [],
   "source": [
    "merged_data_accident_vehicle.to_csv(\"cleaned_data/merged_data_accident_vehicle.csv\",index=False)"
   ]
  },
  {
   "cell_type": "code",
   "execution_count": null,
   "metadata": {},
   "outputs": [
    {
     "name": "stdout",
     "output_type": "stream",
     "text": [
      "[]\n"
     ]
    }
   ],
   "source": [
    "# check for null values\n",
    "t1 = tuple(zip(list(merged_data_accident_vehicle.columns),list(merged_data_accident_vehicle.isna().sum())))\n",
    "print([(col, missing) for col, missing in t1 if missing > 0])\n",
    "\n",
    "\n",
    "# There are no null values"
   ]
  },
  {
   "cell_type": "markdown",
   "metadata": {},
   "source": [
    "## we have 80224 rows which is equal to vehicle shape, thus we can say that the data was joined completely without anything left in the vehicles dataframe"
   ]
  },
  {
   "cell_type": "markdown",
   "metadata": {},
   "source": [
    "now we need to merge the `merged_data_accident_vehicle` with `person` table"
   ]
  },
  {
   "cell_type": "code",
   "execution_count": 21,
   "metadata": {},
   "outputs": [
    {
     "name": "stdout",
     "output_type": "stream",
     "text": [
      "Common columns: ['WEIGHT', 'PJ', 'CASENUM', 'VEHNO', 'REGION']\n"
     ]
    }
   ],
   "source": [
    "# we'll merge accident and vehicle data\n",
    "\n",
    "common_columns = list(set(merged_data_accident_vehicle.columns) & set(person.columns))\n",
    "\n",
    "# Print the common columns\n",
    "print(\"Common columns:\", common_columns)\n"
   ]
  },
  {
   "cell_type": "code",
   "execution_count": 22,
   "metadata": {},
   "outputs": [
    {
     "name": "stdout",
     "output_type": "stream",
     "text": [
      "Empty DataFrame\n",
      "Columns: [CASENUM, PJ]\n",
      "Index: []\n"
     ]
    }
   ],
   "source": [
    "\n",
    "accident_sample = merged_data_accident_vehicle[[\"CASENUM\",\"PJ\"]]\n",
    "vehicle_sample = person[[\"CASENUM\",\"PJ\"]]\n",
    "\n",
    "# Group vehicle_sample by 'CASENUM' and stack the 'REGION' values into a list\n",
    "grouped_vehicle_sample = vehicle_sample.groupby('CASENUM')['PJ'].agg(lambda x: set(x)).reset_index()\n",
    "\n",
    "# Display the result\n",
    "#print(grouped_vehicle_sample)\n",
    "\n",
    "# Filter rows where the length of the 'REGION' set is greater than 1\n",
    "multiple_regions = grouped_vehicle_sample[grouped_vehicle_sample['PJ'].apply(len) > 1]\n",
    "\n",
    "# Display the result\n",
    "print(multiple_regions)\n",
    "\n"
   ]
  },
  {
   "cell_type": "code",
   "execution_count": 23,
   "metadata": {},
   "outputs": [
    {
     "name": "stdout",
     "output_type": "stream",
     "text": [
      "Empty DataFrame\n",
      "Columns: [CASENUM, REGION]\n",
      "Index: []\n"
     ]
    }
   ],
   "source": [
    "\n",
    "accident_sample = merged_data_accident_vehicle[[\"CASENUM\",\"REGION\"]]\n",
    "vehicle_sample = person[[\"CASENUM\",\"REGION\"]]\n",
    "\n",
    "# Group vehicle_sample by 'CASENUM' and stack the 'REGION' values into a list\n",
    "grouped_vehicle_sample = vehicle_sample.groupby('CASENUM')['REGION'].agg(lambda x: set(x)).reset_index()\n",
    "\n",
    "# Display the result\n",
    "#print(grouped_vehicle_sample)\n",
    "\n",
    "# Filter rows where the length of the 'REGION' set is greater than 1\n",
    "multiple_regions = grouped_vehicle_sample[grouped_vehicle_sample['REGION'].apply(len) > 1]\n",
    "\n",
    "# Display the result\n",
    "print(multiple_regions)\n",
    "\n"
   ]
  },
  {
   "cell_type": "markdown",
   "metadata": {},
   "source": [
    "ok I can see both region and pj are have same data values, thus we can use all these to join the data"
   ]
  },
  {
   "cell_type": "code",
   "execution_count": 54,
   "metadata": {},
   "outputs": [
    {
     "name": "stdout",
     "output_type": "stream",
     "text": [
      "(112154, 96)\n"
     ]
    }
   ],
   "source": [
    "# taking accident on left and vehicle on right we can do a left join on ['PSU', 'REGION', 'PJ', 'WEIGHT', 'CASENUM'] these columns \n",
    "\n",
    "# Perform a left join on the specified columns\n",
    "final_merge = pd.merge(merged_data_accident_vehicle, person, on=['WEIGHT', 'PJ', 'CASENUM', 'VEHNO', 'REGION'], how='left')\n",
    "\n",
    "print(final_merge.shape)\n",
    "# Display the result\n"
   ]
  },
  {
   "cell_type": "code",
   "execution_count": null,
   "metadata": {},
   "outputs": [
    {
     "data": {
      "text/plain": [
       "2332"
      ]
     },
     "execution_count": 26,
     "metadata": {},
     "output_type": "execute_result"
    }
   ],
   "source": [
    "114486-112154"
   ]
  },
  {
   "cell_type": "code",
   "execution_count": 33,
   "metadata": {},
   "outputs": [
    {
     "name": "stdout",
     "output_type": "stream",
     "text": [
      "[('PERNO', 159), ('AGE_H', 159), ('SEX_H', 159), ('INJSEV_H', 159), ('PERALC_H', 159), ('PER_TYPE', 159), ('SEAT_POS', 159), ('EJECT', 159), ('SEX', 159), ('HOSPITAL', 159), ('PER_ALCH', 159), ('LOCATN', 159), ('REST_SYS', 159), ('IMPAIRMT', 159), ('ACTION', 159), ('SAF_EQMT', 159), ('AIRBAG', 159)]\n"
     ]
    }
   ],
   "source": [
    "# check for null values\n",
    "t1 = tuple(zip(list(final_merge.columns),list(final_merge.isna().sum())))\n",
    "print([(col, missing) for col, missing in t1 if missing > 0])\n",
    "\n",
    "\n",
    "# There are no null values"
   ]
  },
  {
   "cell_type": "code",
   "execution_count": 61,
   "metadata": {},
   "outputs": [
    {
     "name": "stdout",
     "output_type": "stream",
     "text": [
      "          CASENUM  HOUR_I  MINUTE_I  RELJCT_I  ALIGN_I  PROFIL_I  SURCON_I  \\\n",
      "1496    110218576      20        35         2        1         1         1   \n",
      "1638    110218850      18        35         1        1         2         1   \n",
      "1890    110219251      17        19         0        1         2         1   \n",
      "2831    110672913       6        23         0        1         1         1   \n",
      "3486    110676327      16         0         0        1         1         1   \n",
      "...           ...     ...       ...       ...      ...       ...       ...   \n",
      "106680  180907055      21         0         3        1         2         2   \n",
      "107453  181111786       5        41         0        1         1         2   \n",
      "108082  182128549      10        20         0        1         1         1   \n",
      "111476  188466213      22         3         0        1         1         1   \n",
      "111748  198143005       6        30         2        1         1         2   \n",
      "\n",
      "        TRFCON_I  LGTCON_I  WEATHR_I  ...  EJECT  SEX  HOSPITAL  PER_ALCH  \\\n",
      "1496           1         3         1  ...    NaN  NaN       NaN       NaN   \n",
      "1638          28         2         1  ...    NaN  NaN       NaN       NaN   \n",
      "1890          28         2         1  ...    NaN  NaN       NaN       NaN   \n",
      "2831           0         4         1  ...    NaN  NaN       NaN       NaN   \n",
      "3486           0         1         1  ...    NaN  NaN       NaN       NaN   \n",
      "...          ...       ...       ...  ...    ...  ...       ...       ...   \n",
      "106680         0         3         1  ...    NaN  NaN       NaN       NaN   \n",
      "107453         0         4         2  ...    NaN  NaN       NaN       NaN   \n",
      "108082         0         1         1  ...    NaN  NaN       NaN       NaN   \n",
      "111476         0         3         1  ...    NaN  NaN       NaN       NaN   \n",
      "111748         0         2         1  ...    NaN  NaN       NaN       NaN   \n",
      "\n",
      "        LOCATN  REST_SYS  IMPAIRMT  ACTION  SAF_EQMT  AIRBAG  \n",
      "1496       NaN       NaN       NaN     NaN       NaN     NaN  \n",
      "1638       NaN       NaN       NaN     NaN       NaN     NaN  \n",
      "1890       NaN       NaN       NaN     NaN       NaN     NaN  \n",
      "2831       NaN       NaN       NaN     NaN       NaN     NaN  \n",
      "3486       NaN       NaN       NaN     NaN       NaN     NaN  \n",
      "...        ...       ...       ...     ...       ...     ...  \n",
      "106680     NaN       NaN       NaN     NaN       NaN     NaN  \n",
      "107453     NaN       NaN       NaN     NaN       NaN     NaN  \n",
      "108082     NaN       NaN       NaN     NaN       NaN     NaN  \n",
      "111476     NaN       NaN       NaN     NaN       NaN     NaN  \n",
      "111748     NaN       NaN       NaN     NaN       NaN     NaN  \n",
      "\n",
      "[159 rows x 96 columns]\n"
     ]
    }
   ],
   "source": [
    "# Filter rows where the 'PERSONID' is NaN (indicating no match)\n",
    "unjoined_rows = final_merge[final_merge['PERNO'].isna()]\n",
    "\n",
    "# Display the unjoined rows\n",
    "print(unjoined_rows)"
   ]
  },
  {
   "cell_type": "code",
   "execution_count": 58,
   "metadata": {},
   "outputs": [
    {
     "name": "stdout",
     "output_type": "stream",
     "text": [
      "For these case numbers we actually dont have any information in person column\n"
     ]
    },
    {
     "data": {
      "text/plain": [
       "array([110218576, 110218850, 110219251, 110672913, 110676327, 110756562,\n",
       "       110757472, 113421563, 114920633, 114924743, 115319148, 116657805,\n",
       "       117032669, 117033448, 117033827, 117576518, 117577465, 117579238,\n",
       "       117579326, 117579337, 117581005, 117581941, 117583844, 117588748,\n",
       "       117589168, 118832502, 120410830, 120412365, 120709897, 120851067,\n",
       "       120852123, 120852953, 120854449, 120857183, 120866983, 120872395,\n",
       "       121229052, 121230048, 121230435, 121970681, 121972063, 122274519,\n",
       "       122280189, 122285702, 129926203, 130020558, 130021703, 130226355,\n",
       "       130230035, 130230347, 130237806, 130238759, 130240032, 130244454,\n",
       "       130246639, 130464392, 130599448, 130605297, 130610116, 130610980,\n",
       "       130614259, 130631564, 130632071, 130734063, 131114885, 131246081,\n",
       "       131251250, 131356980, 131357864, 131361884, 131407843, 131408948,\n",
       "       131409110, 131572947, 131582931, 131618271, 131621294, 131720780,\n",
       "       131722196, 131722230, 131724894, 131725683, 131837953, 131844984,\n",
       "       131845201, 131917733, 131918402, 132026422, 132028055, 132029201,\n",
       "       132154699, 132164016, 132164141, 132165106, 132257191, 132257975,\n",
       "       132329994, 132458043, 132547584, 132550201, 132551568, 132681665,\n",
       "       132684410, 132698483, 132710764, 141207356, 147715751, 147718133,\n",
       "       147718717, 147720809, 153509482, 153509547, 153510289, 153513383,\n",
       "       153514938, 159629851, 159639508, 159641537, 160324867, 160330732,\n",
       "       160419555, 160716534, 160817291, 160820330, 161012528, 161805934,\n",
       "       161806592, 162009904, 162711202, 162758788, 162856675, 162857550,\n",
       "       163129541, 163330987, 163710004, 163710164, 164418111, 164513709,\n",
       "       164514898, 164620716, 164620863, 164621144, 164622406, 164917288,\n",
       "       165710496, 165811047, 166257664, 166353503, 180623441, 180907055,\n",
       "       181111786, 182128549, 188466213, 198143005])"
      ]
     },
     "execution_count": 58,
     "metadata": {},
     "output_type": "execute_result"
    }
   ],
   "source": [
    "# get case numbers of unjoined rows\n",
    "\n",
    "print(\"For these case numbers we actually dont have any information in person column\")\n",
    "unjoined_rows[\"CASENUM\"].unique()"
   ]
  },
  {
   "cell_type": "code",
   "execution_count": 62,
   "metadata": {},
   "outputs": [
    {
     "name": "stdout",
     "output_type": "stream",
     "text": [
      "person\n",
      "      WEIGHT  PJ    CASENUM  VEHNO  REGION\n",
      "1509  89.853  10  110218576      2       1\n"
     ]
    }
   ],
   "source": [
    "print(\"person\")\n",
    "print(person[(person.CASENUM == 110218576)][['WEIGHT', 'PJ', 'CASENUM', 'VEHNO', 'REGION']])\n"
   ]
  },
  {
   "cell_type": "code",
   "execution_count": 59,
   "metadata": {},
   "outputs": [
    {
     "name": "stdout",
     "output_type": "stream",
     "text": [
      "110218576\n",
      "vehicle\n",
      "      WEIGHT    CASENUM  VEHNO  REGION  PJ\n",
      "1047  89.853  110218576      1       1  10\n",
      "1048  89.853  110218576      2       1  10\n",
      "--------------------------------\n",
      "accident\n",
      "     WEIGHT  PJ    CASENUM  REGION\n",
      "677  89.853  10  110218576       1\n",
      "--------------------------------\n",
      "person\n",
      "      WEIGHT  PJ    CASENUM  VEHNO  REGION\n",
      "1509  89.853  10  110218576      2       1\n",
      "--------------------------------\n",
      "merged_data_accident_vehicle\n",
      "      WEIGHT  PJ    CASENUM  VEHNO  REGION\n",
      "1047  89.853  10  110218576      1       1\n",
      "1048  89.853  10  110218576      2       1\n",
      "--------------------------------\n",
      "final_merge\n",
      "      WEIGHT  PJ    CASENUM  VEHNO  REGION\n",
      "1496  89.853  10  110218576      1       1\n",
      "1497  89.853  10  110218576      2       1\n"
     ]
    }
   ],
   "source": [
    "caseno = 110218576\n",
    "print(caseno)\n",
    "print(\"vehicle\")\n",
    "print(vehicle[(vehicle.CASENUM == caseno)][['WEIGHT', 'CASENUM', 'VEHNO', 'REGION','PJ']])\n",
    "print(\"--------------------------------\")\n",
    "print(\"accident\")\n",
    "print(accident[(accident.CASENUM == caseno)][['WEIGHT', 'PJ', 'CASENUM', 'REGION']])\n",
    "print(\"--------------------------------\")\n",
    "print(\"person\")\n",
    "print(person[(person.CASENUM == caseno)][['WEIGHT', 'PJ', 'CASENUM', 'VEHNO', 'REGION']])\n",
    "print(\"--------------------------------\")\n",
    "print(\"merged_data_accident_vehicle\")\n",
    "print(merged_data_accident_vehicle[(merged_data_accident_vehicle.CASENUM == caseno)][['WEIGHT', 'PJ', 'CASENUM', 'VEHNO', 'REGION']])\n",
    "print(\"--------------------------------\")\n",
    "print(\"final_merge\")\n",
    "print(final_merge[(final_merge.CASENUM == caseno)][['WEIGHT', 'PJ', 'CASENUM', 'VEHNO', 'REGION']])\n"
   ]
  },
  {
   "cell_type": "code",
   "execution_count": 68,
   "metadata": {},
   "outputs": [],
   "source": [
    "# let's just remove the null values\n",
    "\n",
    "final_merge_ = final_merge.dropna()"
   ]
  },
  {
   "cell_type": "code",
   "execution_count": 69,
   "metadata": {},
   "outputs": [
    {
     "data": {
      "text/plain": [
       "Index(['CASENUM', 'HOUR_I', 'MINUTE_I', 'RELJCT_I', 'ALIGN_I', 'PROFIL_I',\n",
       "       'SURCON_I', 'TRFCON_I', 'LGTCON_I', 'WEATHR_I', 'MANCOL_I', 'EVENT1_I',\n",
       "       'WEIGHT', 'MONTH', 'WEEKDAY', 'REGION', 'LAND_USE', 'INT_HWY',\n",
       "       'REL_RWY', 'TRAF_WAY', 'ALIGN', 'PROFILE', 'WEATHER', 'SCHL_BUS',\n",
       "       'WRK_ZONE', 'ALCOHOL', 'NUM_LAN', 'HOUR', 'NON_INVL', 'NUM_INJ',\n",
       "       'PED_ACC', 'PJ', 'PSU', 'SPD_LIM', 'VEH_INVL', 'YEAR', 'NO_INJ_I',\n",
       "       'ALCHL_I', 'HAZM_NO', 'MODEL_YR', 'DAM_AREA', 'DR_ZIP_C', 'C_ID_NO',\n",
       "       'HIT_RUN', 'MAKE', 'BODY_TYP', 'SPEC_USE', 'EMCY_USE', 'FACTOR',\n",
       "       'TRAILER', 'JACKNIFE', 'FIRE', 'VEH_SEV', 'TOWED', 'P_CRASH1',\n",
       "       'VEH_ROLE', 'ACC_TYPE', 'IMPACT', 'P_CRASH3', 'PCRASH4', 'PCRASH5',\n",
       "       'ROLLOVER', 'VIOLATN', 'VIS_OBSC', 'DR_DSTRD', 'SPEEDREL', 'V_EVENT',\n",
       "       'VEH_ALCH', 'MAX_VSEV', 'MHENUM', 'NUMOCCS', 'OCC_INVL', 'P_CRASH2',\n",
       "       'SPEED', 'VEHNO', 'IMPACT_H', 'MDLYR_I', 'MXVSEV_I', 'V_ALCH_I',\n",
       "       'PERNO', 'AGE_H', 'SEX_H', 'INJSEV_H', 'PERALC_H', 'PER_TYPE',\n",
       "       'SEAT_POS', 'EJECT', 'SEX', 'HOSPITAL', 'PER_ALCH', 'LOCATN',\n",
       "       'REST_SYS', 'IMPAIRMT', 'ACTION', 'SAF_EQMT', 'AIRBAG'],\n",
       "      dtype='object')"
      ]
     },
     "execution_count": 69,
     "metadata": {},
     "output_type": "execute_result"
    }
   ],
   "source": [
    "final_merge_.columns"
   ]
  },
  {
   "cell_type": "code",
   "execution_count": 70,
   "metadata": {},
   "outputs": [
    {
     "data": {
      "text/plain": [
       "(50967, 96)"
      ]
     },
     "execution_count": 70,
     "metadata": {},
     "output_type": "execute_result"
    }
   ],
   "source": [
    "import pandas as pd\n",
    "\n",
    "# Dictionary with column names as keys and values to be removed\n",
    "remove_values = {\n",
    "    'LGTCON_I': 8, 'WEATHR_I': 9, 'MANCOL_I': 9, 'WEEKDAY': 9, 'LAND_USE': 9, \n",
    "    'MAN_COL': 9, 'INT_HWY': 9, 'REL_JCT': 98, 'REL_RWY': 98, 'ALIGN': 9, \n",
    "    'PROFILE': 9, 'SUR_COND': 9, 'TRAF_CON': 9, 'LGHT_CON': 8, 'WEATHER': 9, \n",
    "    'ALCOHOL': 9, 'NUM_LAN': 9, 'EVENT1': 99, 'HOUR': 99, 'MINUTE': 99, \n",
    "    'NUM_INJ': 99, 'VEHNO': 99, 'INJSEV_H': 99, 'SEAT_H': 8, 'PER_TYPE': 99, \n",
    "    'SEAT_POS': 3, 'EJECT': 9, 'SEX': 9, 'HOSPITAL': 9, 'PER_ALCH': 99, \n",
    "    'LOCATN': 9, 'REST_SYS': 9, 'PER_DRUG': 99, 'IMPAIRMT': 99, 'ACTION': 9, \n",
    "    'SAF_EQMT': 9, 'REGION': 99, 'STR_VEH': 3, 'VIN': 999, 'HAZM_NO': 999, \n",
    "    'DAM_AREA': 9, 'HIT_RUN': 9, 'SPEC_USE': 99, 'EMCY_USE': 9, 'FACTOR': 99, \n",
    "    'TRAILER': 6, 'VEH_SEV': 9, 'TOWED': 9, 'P_CRASH1': 99, 'VEH_ROLE': 9, \n",
    "    'P_CRASH3': 99, 'PCRASH5': 99, 'CARG_TYP': 99, 'DR_PRES': 9, 'VIOLATN': 96, \n",
    "    'VIS_OBSC': 96, 'DRMAN_AV': 96, 'DR_DSTRD': 96, 'SPEEDREL': 9, 'VEH_ALCH': 9, \n",
    "    'MAX_VSEV': 9, 'NUMOCCS': 999, 'OCC_INVL': 97, 'SPEED': 999, 'VROLE_I': 9, \n",
    "    'V_EVNT_H': 99\n",
    "}\n",
    "\n",
    "# Loop over the dictionary to filter rows based on column names and values\n",
    "for column, value in remove_values.items():\n",
    "    if column in final_merge_.columns:\n",
    "        final_merge_cleaned = final_merge_[final_merge_[column] != value]\n",
    "\n",
    "# The filtered dataframe is now in final_merge\n",
    "final_merge_cleaned.shape"
   ]
  },
  {
   "cell_type": "code",
   "execution_count": null,
   "metadata": {},
   "outputs": [],
   "source": []
  }
 ],
 "metadata": {
  "kernelspec": {
   "display_name": "base",
   "language": "python",
   "name": "python3"
  },
  "language_info": {
   "codemirror_mode": {
    "name": "ipython",
    "version": 3
   },
   "file_extension": ".py",
   "mimetype": "text/x-python",
   "name": "python",
   "nbconvert_exporter": "python",
   "pygments_lexer": "ipython3",
   "version": "3.12.7"
  }
 },
 "nbformat": 4,
 "nbformat_minor": 2
}
